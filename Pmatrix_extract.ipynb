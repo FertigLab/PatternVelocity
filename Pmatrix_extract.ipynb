{
 "cells": [
  {
   "cell_type": "code",
   "execution_count": 2,
   "metadata": {},
   "outputs": [],
   "source": [
    "#Extract P-matrix \n",
    "\n",
    "library(CoGAPS)\n",
    "\n",
    "load('Ps4fixAs.10xHighVar.nP80.Rda')\n",
    "P_cogaps = Ps4fixAs[[\"P\"]]\n",
    "saveRDS(P_cogaps, 'data/P_cogaps.rds')"
   ]
  },
  {
   "cell_type": "code",
   "execution_count": null,
   "metadata": {},
   "outputs": [],
   "source": []
  }
 ],
 "metadata": {
  "kernelspec": {
   "display_name": "(Fertig) R 3.6",
   "language": "R",
   "name": "fertig_r_3_6"
  },
  "language_info": {
   "codemirror_mode": "r",
   "file_extension": ".r",
   "mimetype": "text/x-r-source",
   "name": "R",
   "pygments_lexer": "r",
   "version": "3.6.1"
  }
 },
 "nbformat": 4,
 "nbformat_minor": 2
}
