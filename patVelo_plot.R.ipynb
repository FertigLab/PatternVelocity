{
 "cells": [
  {
   "cell_type": "code",
   "execution_count": 26,
   "metadata": {},
   "outputs": [],
   "source": [
    "#Plot the pattern velocities \n",
    "\n",
    "library(ggplot2)\n",
    "library(gridExtra)"
   ]
  },
  {
   "cell_type": "code",
   "execution_count": 19,
   "metadata": {},
   "outputs": [],
   "source": [
    "umap_df <- read.csv('UMAPonlyVelocity_Horizontal.csv', row.names = 1)\n",
    "patVelo <- read.csv('patternVelocity_Horizontal.csv', row.names = 1)\n",
    "Index_fmt <- strsplit(rownames(umap_df),'x',fixed=T)\n",
    "Index_fmt <- gsub(':','.',Index_fmt)\n",
    "rownames(umap_df) = Index_fmt\n",
    "\n",
    "commonCells = intersect(rownames(umap_df), rownames(patVelo))\n"
   ]
  },
  {
   "cell_type": "code",
   "execution_count": 23,
   "metadata": {},
   "outputs": [],
   "source": [
    "patVelo_umap = cbind(patVelo[commonCells, ], umap_df[commonCells,])\n"
   ]
  },
  {
   "cell_type": "code",
   "execution_count": 27,
   "metadata": {},
   "outputs": [
    {
     "data": {
      "text/html": [
       "<strong>png:</strong> 2"
      ],
      "text/latex": [
       "\\textbf{png:} 2"
      ],
      "text/markdown": [
       "**png:** 2"
      ],
      "text/plain": [
       "png \n",
       "  2 "
      ]
     },
     "metadata": {},
     "output_type": "display_data"
    }
   ],
   "source": [
    "\n",
    "patveloPlots <- lapply(1:80,function(i){ggplot(patVelo_umap,aes_string(x='umap_coord2',y='umap_coord3',color=paste0('Pattern.',i))) + geom_point(alpha=0.5,size=0.8) + theme_bw() + labs(title = paste0('Velocity Pattern ',i))})\n",
    "\n",
    "\n",
    "png('patternVelocity.png',width = 20, height = 20,units = 'in',res=100)\n",
    "grid.arrange(grobs = patveloPlots,nrow = 9, ncol = 9)\n",
    "dev.off()\n"
   ]
  },
  {
   "cell_type": "code",
   "execution_count": null,
   "metadata": {},
   "outputs": [],
   "source": []
  }
 ],
 "metadata": {
  "kernelspec": {
   "display_name": "(Fertig) R 3.6",
   "language": "R",
   "name": "fertig_r_3_6"
  },
  "language_info": {
   "codemirror_mode": "r",
   "file_extension": ".r",
   "mimetype": "text/x-r-source",
   "name": "R",
   "pygments_lexer": "r",
   "version": "3.6.1"
  }
 },
 "nbformat": 4,
 "nbformat_minor": 2
}
