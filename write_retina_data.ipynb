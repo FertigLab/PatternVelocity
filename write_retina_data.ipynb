{
 "cells": [
  {
   "cell_type": "code",
   "execution_count": null,
   "metadata": {},
   "outputs": [],
   "source": [
    "\"\"\"\n",
    "#Fetch retina-only scvelo data\n",
    "Parameters\n",
    "----------\n",
    "dat : AnnData object \n",
    "    contains spliced/unspliced RNA data\n",
    "dat_retina : Loom file \n",
    "    contains retina-only barcodes and annotations \n",
    "\n",
    "Returns\n",
    "-------\n",
    "datOnly.h5ad \n",
    "    AnnData object containing the retina-only scvelo data \n",
    "\n",
    "\"\"\""
   ]
  },
  {
   "cell_type": "code",
   "execution_count": 1,
   "metadata": {},
   "outputs": [],
   "source": [
    "import scanpy as sc\n",
    "import scvelo as scv\n",
    "import anndata as ad\n",
    "import pandas as pd\n",
    "import numpy as np\n"
   ]
  },
  {
   "cell_type": "code",
   "execution_count": 3,
   "metadata": {},
   "outputs": [
    {
     "name": "stderr",
     "output_type": "stream",
     "text": [
      "Variable names are not unique. To make them unique, call `.var_names_make_unique`.\n"
     ]
    }
   ],
   "source": [
    "#scvelo (spliced/unspliced RNA) study of mouse \n",
    "##dat = scv.read(\"merged.h5ad\",sparse=True)\n",
    "# retina-only barcodes and annotations\n",
    "dat_retina = sc.read_loom(\"Absolute_Final_retina_only_dataset.loom\",sparse=True)"
   ]
  },
  {
   "cell_type": "code",
   "execution_count": 3,
   "metadata": {},
   "outputs": [
    {
     "name": "stdout",
     "output_type": "stream",
     "text": [
      "104834\n"
     ]
    },
    {
     "name": "stderr",
     "output_type": "stream",
     "text": [
      "Variable names are not unique. To make them unique, call `.var_names_make_unique`.\n"
     ]
    }
   ],
   "source": [
    "#######\n",
    "# Fetch retina only barcodes and annotations from orig analyses\n",
    "######\n",
    "\n",
    "retina_barcodes = dat_retina.obs[\"sample\"] + \":\" + dat_retina.obs.barcode.str.split(\"\\.\").str[1].str.split(\"-\").str[0] + \"x\"\n",
    "#print(dat.obs.index.isin(retina_barcodes).sum()) # Total number of overlapping cells from original annotation and scvelo study\n",
    "\n",
    "\n",
    "dat_subset = ad.AnnData(dat[dat.obs.index.isin(retina_barcodes)])\n",
    "dat_subset.obs = dat_subset.obs.merge(dat_retina.obs,how='left',left_index=True, right_index=True)\n",
    "dat = dat_subset\n"
   ]
  },
  {
   "cell_type": "code",
   "execution_count": 5,
   "metadata": {},
   "outputs": [
    {
     "data": {
      "text/plain": [
       "AnnData object with n_obs × n_vars = 104834 × 30359 \n",
       "    obs: 'AC_CellType', 'CellType', 'Size_Factor', 'State', 'Total_mRNAs', 'age', 'barcode', 'largeVis1', 'largeVis2', 'largeVis3', 'new_CellType', 'num_genes_expressed', 'raw_cluster', 'sample', 'umap2_CellType', 'umap_CellType', 'umap_cluster', 'umap_coord1', 'umap_coord2', 'umap_coord3', 'used_for_pseudotime'\n",
       "    var: 'Accession', 'Chromosome', 'End', 'Start', 'Strand'\n",
       "    layers: 'ambiguous', 'matrix', 'spliced', 'unspliced'"
      ]
     },
     "execution_count": 5,
     "metadata": {},
     "output_type": "execute_result"
    }
   ],
   "source": [
    "del dat_retina\n",
    "del dat_subset\n",
    "#dat"
   ]
  },
  {
   "cell_type": "code",
   "execution_count": 6,
   "metadata": {},
   "outputs": [],
   "source": [
    "#dat.write('dataonly.h5ad')\n",
    "#dat.obs.to_csv('dataonlyObs.csv')"
   ]
  }
 ],
 "metadata": {
  "kernelspec": {
   "display_name": "(Fertig) Python 3.6",
   "language": "python",
   "name": "fertig_python_3_6"
  },
  "language_info": {
   "codemirror_mode": {
    "name": "ipython",
    "version": 3
   },
   "file_extension": ".py",
   "mimetype": "text/x-python",
   "name": "python",
   "nbconvert_exporter": "python",
   "pygments_lexer": "ipython3",
   "version": "3.6.7"
  }
 },
 "nbformat": 4,
 "nbformat_minor": 4
}
