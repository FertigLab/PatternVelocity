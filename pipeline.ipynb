{
 "cells": [
  {
   "cell_type": "markdown",
   "metadata": {},
   "source": [
    "#CoGAPS Data:\n",
    "- Geneweights10xHighVar.nP80.csv - A matrix (Gene x Pattern) \n",
    "- Ps4fixAs.10xHighVar.nP80.Rda - CoGAPS results: P and Psd \n",
    "\n",
    "#COGAPS Pipeline:\n",
    "##Compute Pattern Marker Statistics\n",
    "- retinaPatternMarkerStatistic.R\n",
    "##Extract P matrix (Pattern x Cells) \n",
    "- Pmatrix_extract.ipynb\n",
    "\n",
    "\n",
    "#Velocity Data:\n",
    "- Absolute_Final_retina_only_dataset.loom - mouse retina-only data\n",
    "- merged.5ad - splice/unspliced RNA - mouse data\n",
    "\n",
    "#Velocity Pipeline:\n",
    "##Fetch retina-only spliced/unspliced RNA data\n",
    "- write_retina_data.ipynb\n",
    "##Compute velocity & Construct velocity-graph \n",
    "- retina_Velocity.ipynb \n",
    "##Write the magnitude of the velocities in a csv file \n",
    "##Write the umap coordinates of the cells in a csv file\n",
    "- write_velocity_data.ipynb \n",
    "\n",
    "#Pattern-velocity Pipeline:\n",
    "##Construct PatternMarker velocity \n",
    "- PatternMarker_velocity.R \n",
    "##Plot PatternMarker velocity on umap embedding\n",
    "- patVelo_plot.R \n",
    "\n",
    "Compute velcity graph on Patterns, as opposed to separetly and then multiply:\n",
    "####Compute PMS-velocity & Construct PMS-velocity-graph \n",
    "- PMS_Velo_graph.py\n",
    "\n",
    "\n"
   ]
  },
  {
   "cell_type": "code",
   "execution_count": null,
   "metadata": {},
   "outputs": [],
   "source": []
  }
 ],
 "metadata": {
  "kernelspec": {
   "display_name": "(Fertig) Python 3.6",
   "language": "python",
   "name": "fertig_python_3_6"
  },
  "language_info": {
   "codemirror_mode": {
    "name": "ipython",
    "version": 3
   },
   "file_extension": ".py",
   "mimetype": "text/x-python",
   "name": "python",
   "nbconvert_exporter": "python",
   "pygments_lexer": "ipython3",
   "version": "3.6.7"
  }
 },
 "nbformat": 4,
 "nbformat_minor": 2
}
