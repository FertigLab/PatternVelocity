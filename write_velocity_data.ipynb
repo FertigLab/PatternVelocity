{
 "cells": [
  {
   "cell_type": "code",
   "execution_count": null,
   "metadata": {},
   "outputs": [],
   "source": [
    "\"\"\"\n",
    "#Write the magnitude of the velocities in a csv file \n",
    "#Write the UMAP coordinates of the cells in a csv file \n",
    "\"\"\""
   ]
  },
  {
   "cell_type": "code",
   "execution_count": 2,
   "metadata": {},
   "outputs": [],
   "source": [
    "import anndata as ad\n",
    "import pandas as pd"
   ]
  },
  {
   "cell_type": "code",
   "execution_count": 3,
   "metadata": {},
   "outputs": [],
   "source": [
    "dat = ad.read('dataonlyPostProcessing_Horizontal.h5ad')"
   ]
  },
  {
   "cell_type": "code",
   "execution_count": 3,
   "metadata": {},
   "outputs": [],
   "source": [
    "df = pd.DataFrame(data=dat.layers['velocity'],index=dat.obs.index,columns=dat.var.index)\n",
    "df.to_csv('./dataonlyVelocity_Horizontal.csv')\n"
   ]
  },
  {
   "cell_type": "code",
   "execution_count": 4,
   "metadata": {},
   "outputs": [
    {
     "data": {
      "text/plain": [
       "AnnData object with n_obs × n_vars = 1637 × 30359 \n",
       "    obs: 'AC_CellType', 'CellType', 'Size_Factor', 'State', 'Total_mRNAs', 'age', 'barcode', 'largeVis1', 'largeVis2', 'largeVis3', 'new_CellType', 'num_genes_expressed', 'raw_cluster', 'sample', 'umap2_CellType', 'umap_CellType', 'umap_cluster', 'umap_coord1', 'umap_coord2', 'umap_coord3', 'used_for_pseudotime', 'initial_size_spliced', 'initial_size_unspliced', 'initial_size', 'n_counts', 'velocity_self_transition'\n",
       "    var: 'Accession', 'Chromosome', 'End', 'Start', 'Strand', 'velocity_gamma', 'velocity_r2', 'velocity_genes'\n",
       "    uns: 'age_colors', 'neighbors', 'pca', 'velocity_graph', 'velocity_graph_neg', 'velocity_settings'\n",
       "    obsm: 'X_pca', 'X_umap', 'velocity_umap'\n",
       "    varm: 'PCs'\n",
       "    layers: 'Ms', 'Mu', 'ambiguous', 'matrix', 'spliced', 'unspliced', 'velocity'"
      ]
     },
     "execution_count": 4,
     "metadata": {},
     "output_type": "execute_result"
    }
   ],
   "source": [
    "dat"
   ]
  },
  {
   "cell_type": "code",
   "execution_count": 6,
   "metadata": {},
   "outputs": [
    {
     "data": {
      "text/plain": [
       "pandas.core.series.Series"
      ]
     },
     "execution_count": 6,
     "metadata": {},
     "output_type": "execute_result"
    }
   ],
   "source": [
    "\n",
    "type(dat.obs['umap_coord2'])\n",
    "#pd.DataFrame( data=dat.obs['umap_coord2'], dat.obs['umap_coord3'], indix=dat.obs.index)"
   ]
  },
  {
   "cell_type": "code",
   "execution_count": 14,
   "metadata": {},
   "outputs": [],
   "source": [
    "df_umap = pd.concat([dat.obs['umap_coord2'], dat.obs['umap_coord3']], axis=1)\n",
    "df_umap.to_csv('./UMAPonlyVelocity_Horizontal.csv')\n"
   ]
  },
  {
   "cell_type": "code",
   "execution_count": null,
   "metadata": {},
   "outputs": [],
   "source": []
  }
 ],
 "metadata": {
  "kernelspec": {
   "display_name": "(Fertig) Python 3.6",
   "language": "python",
   "name": "fertig_python_3_6"
  },
  "language_info": {
   "codemirror_mode": {
    "name": "ipython",
    "version": 3
   },
   "file_extension": ".py",
   "mimetype": "text/x-python",
   "name": "python",
   "nbconvert_exporter": "python",
   "pygments_lexer": "ipython3",
   "version": "3.6.7"
  }
 },
 "nbformat": 4,
 "nbformat_minor": 2
}
